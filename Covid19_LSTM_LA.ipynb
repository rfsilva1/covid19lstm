{
  "nbformat": 4,
  "nbformat_minor": 0,
  "metadata": {
    "kernelspec": {
      "display_name": "Python 3",
      "language": "python",
      "name": "python3"
    },
    "language_info": {
      "codemirror_mode": {
        "name": "ipython",
        "version": 3
      },
      "file_extension": ".py",
      "mimetype": "text/x-python",
      "name": "python",
      "nbconvert_exporter": "python",
      "pygments_lexer": "ipython3",
      "version": "3.7.6"
    },
    "toc": {
      "base_numbering": 1,
      "nav_menu": {},
      "number_sections": true,
      "sideBar": true,
      "skip_h1_title": false,
      "title_cell": "Table of Contents",
      "title_sidebar": "Contents",
      "toc_cell": false,
      "toc_position": {},
      "toc_section_display": true,
      "toc_window_display": false
    },
    "varInspector": {
      "cols": {
        "lenName": 16,
        "lenType": 16,
        "lenVar": 40
      },
      "kernels_config": {
        "python": {
          "delete_cmd_postfix": "",
          "delete_cmd_prefix": "del ",
          "library": "var_list.py",
          "varRefreshCmd": "print(var_dic_list())"
        },
        "r": {
          "delete_cmd_postfix": ") ",
          "delete_cmd_prefix": "rm(",
          "library": "var_list.r",
          "varRefreshCmd": "cat(var_dic_list()) "
        }
      },
      "types_to_exclude": [
        "module",
        "function",
        "builtin_function_or_method",
        "instance",
        "_Feature"
      ],
      "window_display": false
    },
    "colab": {
      "name": "Covid19-LSTM-LA.ipynb",
      "provenance": [],
      "collapsed_sections": [],
      "toc_visible": true
    },
    "accelerator": "GPU"
  },
  "cells": [
    {
      "cell_type": "markdown",
      "metadata": {
        "id": "cTDBrXDe7af0",
        "colab_type": "text"
      },
      "source": [
        "# An in-depth analysis on the use of long short-term memory networks to predict incidence and prevalence of Covid-19 in Latin America"
      ]
    },
    {
      "cell_type": "markdown",
      "metadata": {
        "id": "JwO2xu877eDi",
        "colab_type": "text"
      },
      "source": [
        "Upload manually the datasets"
      ]
    },
    {
      "cell_type": "code",
      "metadata": {
        "ExecuteTime": {
          "end_time": "2020-05-25T03:44:06.229739Z",
          "start_time": "2020-05-25T03:44:05.758010Z"
        },
        "id": "dipAvg3871ZB",
        "colab_type": "code",
        "colab": {
          "base_uri": "https://localhost:8080/",
          "height": 86
        },
        "outputId": "c4685eef-d59b-47af-9998-d9c522634c67"
      },
      "source": [
        "import pandas as pd\n",
        "import scipy.cluster.hierarchy as sch\n",
        "import matplotlib.pyplot as plt\n",
        "from scipy.spatial.distance import cdist\n",
        "from sklearn.metrics import mean_squared_error, mean_absolute_error\n",
        "from sklearn.cluster import AgglomerativeClustering\n",
        "from sklearn.preprocessing import StandardScaler\n",
        "from sklearn.preprocessing import OneHotEncoder\n",
        "from sklearn.model_selection import TimeSeriesSplit\n",
        "from sklearn.ensemble import RandomForestRegressor\n",
        "from sklearn.tree import DecisionTreeRegressor\n",
        "from sklearn.ensemble import AdaBoostRegressor\n",
        "from sklearn.svm import SVR\n",
        "from sklearn.pipeline import make_pipeline\n",
        "from sklearn.model_selection import GridSearchCV\n",
        "from sklearn.preprocessing import StandardScaler\n",
        "from keras.models import Sequential\n",
        "from keras.layers import Dense, Dropout, LSTM, Flatten\n",
        "from keras.optimizers import Adam\n",
        "import tensorflow as tf\n",
        "from time import time\n",
        "from sklearn.decomposition import PCA\n",
        "import numpy as np\n",
        "import matplotlib.pyplot as plt\n",
        "from tensorflow.keras.utils import plot_model\n",
        "\n",
        "from sklearn import metrics\n",
        "from sklearn import preprocessing\n",
        "from sklearn.preprocessing import scale\n",
        "from sklearn.metrics import *\n",
        "from itertools import product\n",
        "import seaborn as sns\n",
        "import statsmodels.api as sm\n",
        "import warnings\n",
        "warnings.filterwarnings('ignore')\n",
        "import pandas as pd\n",
        "import matplotlib.pyplot as plt\n",
        "import seaborn as sns\n",
        "import tensorflow as tf\n",
        "import matplotlib as mpl\n",
        "import matplotlib.pyplot as plt\n",
        "import numpy as np\n",
        "import os\n",
        "import pandas as pd\n",
        "import pickle\n",
        "\n",
        "mpl.rcParams['figure.figsize'] = (8, 6)\n",
        "mpl.rcParams['axes.grid'] = False\n",
        "sns.set(font='IPAGothic')\n",
        "import numpy as np\n",
        "import statsmodels.api as sm\n",
        "from sklearn.model_selection import train_test_split\n",
        "sns.set()"
      ],
      "execution_count": null,
      "outputs": [
        {
          "output_type": "stream",
          "text": [
            "Using TensorFlow backend.\n",
            "/usr/local/lib/python3.6/dist-packages/statsmodels/tools/_testing.py:19: FutureWarning: pandas.util.testing is deprecated. Use the functions in the public API at pandas.testing instead.\n",
            "  import pandas.util.testing as tm\n"
          ],
          "name": "stderr"
        }
      ]
    },
    {
      "cell_type": "markdown",
      "metadata": {
        "id": "OSrHyL5U7nBh",
        "colab_type": "text"
      },
      "source": [
        "## Read CSVs"
      ]
    },
    {
      "cell_type": "code",
      "metadata": {
        "ExecuteTime": {
          "end_time": "2020-05-24T23:27:52.122168Z",
          "start_time": "2020-05-24T23:27:44.582Z"
        },
        "run_control": {
          "marked": true
        },
        "id": "Sl_QTX2671ZV",
        "colab_type": "code",
        "colab": {}
      },
      "source": [
        "argentina = pd.read_csv('argentina.csv', sep=',', index_col='date', parse_dates=True)\n",
        "bolivia = pd.read_csv('bolivia.csv', sep=',', index_col='date', parse_dates=True)\n",
        "brazil = pd.read_csv('brazil.csv', sep=',', index_col='date', parse_dates=True)\n",
        "chile = pd.read_csv('chile.csv', sep=',', index_col='date', parse_dates=True)\n",
        "colombia = pd.read_csv('colombia.csv', sep=',', index_col='date', parse_dates=True)\n",
        "cuba = pd.read_csv('cuba.csv', sep=',', index_col='date', parse_dates=True)\n",
        "ecuador = pd.read_csv('ecuador.csv', sep=',', index_col='date', parse_dates=True)\n",
        "guatemala = pd.read_csv('guatemala.csv', sep=',', index_col='date', parse_dates=True)\n",
        "haiti = pd.read_csv('haiti.csv', sep=',', index_col='date', parse_dates=True)\n",
        "mexico = pd.read_csv('mexico.csv', sep=',', index_col='date', parse_dates=True)\n",
        "peru = pd.read_csv('peru.csv', sep=',', index_col='date', parse_dates=True)\n",
        "venezuela = pd.read_csv('venezuela.csv', sep=',', index_col='date', parse_dates=True)"
      ],
      "execution_count": null,
      "outputs": []
    },
    {
      "cell_type": "markdown",
      "metadata": {
        "id": "o8qvy3447rzr",
        "colab_type": "text"
      },
      "source": [
        "## Create GridSearchCV"
      ]
    },
    {
      "cell_type": "code",
      "metadata": {
        "ExecuteTime": {
          "end_time": "2020-05-24T23:27:52.126166Z",
          "start_time": "2020-05-24T23:27:44.602Z"
        },
        "id": "WTvb_Ikp71Zl",
        "colab_type": "code",
        "colab": {}
      },
      "source": [
        "from sklearn.model_selection import GridSearchCV\n",
        "\n",
        "def finder(X_train, y_train, model, params, cross_v):\n",
        "\n",
        "    finder = GridSearchCV(\n",
        "            estimator=model,\n",
        "            param_grid=params,\n",
        "            scoring='neg_mean_absolute_error',\n",
        "            n_jobs=-1,\n",
        "            iid=False,\n",
        "            refit=False,\n",
        "            cv=cross_v,\n",
        "            verbose=1,\n",
        "            pre_dispatch=8,\n",
        "            error_score=-999,\n",
        "            return_train_score=True\n",
        "        )\n",
        "\n",
        "    finder.fit(X_train, y_train)\n",
        "\n",
        "    \n",
        "    return finder.best_params_, finder.cv_results_\n"
      ],
      "execution_count": null,
      "outputs": []
    },
    {
      "cell_type": "markdown",
      "metadata": {
        "id": "q6RiMgVb7weG",
        "colab_type": "text"
      },
      "source": [
        "## Create Blocking Time Series Split"
      ]
    },
    {
      "cell_type": "code",
      "metadata": {
        "ExecuteTime": {
          "end_time": "2020-05-24T23:27:52.131162Z",
          "start_time": "2020-05-24T23:27:44.608Z"
        },
        "id": "acPyyn0l71Zs",
        "colab_type": "code",
        "colab": {}
      },
      "source": [
        "class BlockingTimeSeriesSplit():\n",
        "    def __init__(self, n_splits):\n",
        "        self.n_splits = n_splits\n",
        "    \n",
        "    def get_n_splits(self, X, y, groups):\n",
        "        return self.n_splits\n",
        "    \n",
        "    def split(self, X, y=None, groups=None):\n",
        "        n_samples = len(X)\n",
        "        k_fold_size = n_samples // self.n_splits\n",
        "        indices = np.arange(n_samples)\n",
        "\n",
        "        margin = 0\n",
        "        for i in range(self.n_splits):\n",
        "            start = i * k_fold_size\n",
        "            stop = start + k_fold_size\n",
        "            mid = int(0.8 * (stop - start)) + start\n",
        "            yield indices[start: mid], indices[mid + margin: stop]"
      ],
      "execution_count": null,
      "outputs": []
    },
    {
      "cell_type": "markdown",
      "metadata": {
        "id": "jMqjJJ6w70u0",
        "colab_type": "text"
      },
      "source": [
        "## SVR Implementation"
      ]
    },
    {
      "cell_type": "code",
      "metadata": {
        "ExecuteTime": {
          "end_time": "2020-05-24T23:27:52.133162Z",
          "start_time": "2020-05-24T23:27:44.613Z"
        },
        "id": "sd4sjYM671Zz",
        "colab_type": "code",
        "colab": {}
      },
      "source": [
        "def train_svr(tra_cross, trv, tra_cross_target, trv_target): \n",
        "    \n",
        "    param_grid = {'kernel': ['linear', 'rbf', 'sigmoid', 'poly'],\n",
        "                  'C': [0.01, 0.1, 1, 5, 10, 20, 50],\n",
        "                  'epsilon': [0.001, 0.01, 0.1]}\n",
        "\n",
        "    clf = SVR()\n",
        "    tscv = TimeSeriesSplit(n_splits=5)\n",
        "    bscv = BlockingTimeSeriesSplit(n_splits=5)\n",
        "\n",
        "    best_params, cv_results = finder(tra_cross, tra_cross_target, clf, param_grid, bscv)\n",
        "    \n",
        "    clf_train = SVR(**best_params)\n",
        "\n",
        "    clf_train.fit(tra_cross, tra_cross_target)\n",
        "    pred = pd.DataFrame(clf_train.predict(trv))\n",
        "\n",
        "    pred.columns = ['previsao']\n",
        "    pred['date'] = trv_target.index\n",
        "    \n",
        "    pred = pred.set_index('date')\n",
        "\n",
        "    mae_test_svr  = mean_absolute_error(trv_target, pred)\n",
        "    \n",
        "    return mae_test_svr, pred, trv_target, best_params, cv_results"
      ],
      "execution_count": null,
      "outputs": []
    },
    {
      "cell_type": "markdown",
      "metadata": {
        "id": "kBK0A8Q67-7_",
        "colab_type": "text"
      },
      "source": [
        "## Create the inputs for the LSTM"
      ]
    },
    {
      "cell_type": "code",
      "metadata": {
        "id": "ttnAM0goN28a",
        "colab_type": "code",
        "colab": {}
      },
      "source": [
        "def multivariate_data(dataset, target, start_index, end_index, history_size,\n",
        "                      target_size):\n",
        "  data = []\n",
        "  labels = []\n",
        "\n",
        "  start_index = start_index + history_size\n",
        "  if end_index is None:\n",
        "    end_index = len(dataset) - target_size\n",
        "\n",
        "  for i in range(start_index, end_index):\n",
        "    indices = range(i-history_size, i)\n",
        "    data.append(dataset[indices])\n",
        "  \n",
        "  return np.array(data), np.array(labels)"
      ],
      "execution_count": null,
      "outputs": []
    },
    {
      "cell_type": "markdown",
      "metadata": {
        "id": "FFMAtlMP8IhZ",
        "colab_type": "text"
      },
      "source": [
        "##LSTM Implementation - TensorFlow 2.0"
      ]
    },
    {
      "cell_type": "code",
      "metadata": {
        "id": "IqzZxkFJ3i9U",
        "colab_type": "code",
        "colab": {}
      },
      "source": [
        "def train_lstm_multivariate(multi_cross, multi_teste, target_cross, target_teste, target, grid_val_metrics_lstm, country): \n",
        "    \n",
        "    batch_sizes = [2, 4, 8, 16, 32]\n",
        "    neuron_numbers = [10, 50, 100, 200, 500]\n",
        "    past_histories = [2, 5, 10, 20]\n",
        "    n_epochs = [20, 50, 100, 200, 500]\n",
        "    univariate_future_target = 1\n",
        "    mean_mae_lstm_sum = 0\n",
        "    mae_ant_lstm = 0\n",
        "    mae_lstm = 0\n",
        "    median_mae = 0\n",
        "    loss_metric = 'mae'\n",
        "    pred_ant = 0\n",
        "    pred_ant_lstm = 0\n",
        "    first_time = 0\n",
        "    first_time_lstm = 0\n",
        "    best_parameters = []\n",
        "    best_parameters_lstm = []\n",
        "  \n",
        "    mean_mae_lstm = pd.DataFrame(columns = ['mae_lstm', 'batch_size', 'neuron_number', 'n_epoch', 'target', 'country'])\n",
        "\n",
        "\n",
        "    btscv = BlockingTimeSeriesSplit(n_splits=5)\n",
        "\n",
        "      \n",
        "    for batch_size in batch_sizes:\n",
        "        for neuron_number in neuron_numbers:\n",
        "            print(\"treino - \"+all_countries[i_country]+\" - neurons: \"+str(neuron_number)+\" - batch_size: \"+str(batch_size))          \n",
        "            for past_history in past_histories:\n",
        "                for n_epoch in n_epochs:\n",
        "                     for train_index, test_index in btscv.split(multi_cross):\n",
        "                \n",
        "                        X_train, X_val = multi_cross.loc[train_index], multi_cross.loc[test_index]\n",
        "                        Y_train, Y_val = target_cross.loc[train_index], target_cross.loc[test_index]\n",
        "                 \n",
        "                                    \n",
        "                        scaler = StandardScaler()\n",
        "                        scaler.fit(X_train)\n",
        "                        multi_data_slice = scaler.transform(X_train)\n",
        "                        multi_data_slice_val = scaler.transform(X_val)\n",
        "                        \n",
        "                        scaler_2 = StandardScaler()\n",
        "                        scaler_2.fit(Y_train)\n",
        "                        target_multi_slice = scaler_2.transform(Y_train)\n",
        "                        target_multi_slice_val = scaler_2.transform(Y_val)\n",
        "\n",
        "                        x_train_uni = univariate_data_x(multi_data_slice, 0, len(multi_data_slice),\n",
        "                                                              past_history,\n",
        "                                                              1)\n",
        "                        x_val_uni = univariate_data_x(multi_data_slice_val, 0, len(multi_data_slice_val),\n",
        "                                                              past_history,\n",
        "                                                              1)\n",
        "                        \n",
        "                        y_train_uni = univariate_data_y(target_multi_slice, 0, len(target_multi_slice),\n",
        "                                                              past_history,\n",
        "                                                              1)\n",
        "                        \n",
        "                        \n",
        "                        y_val_uni = univariate_data_y(target_multi_slice_val, 0, len(target_multi_slice_val),\n",
        "                                                              past_history,\n",
        "                                                              1)\n",
        "                        \n",
        "                        model = Sequential()\n",
        "                        model.add(LSTM(units=neuron_number,input_shape=(x_train_uni.shape[1],6),return_sequences=True))\n",
        "                        model.add(Flatten())\n",
        "                        model.add(Dense(1))\n",
        "                        \n",
        "                        ADAM=tf.keras.optimizers.Adam(0.0005, beta_1=0.9, beta_2=0.999, amsgrad=False)\n",
        "                        model.compile(loss=loss_metric, optimizer=ADAM)\n",
        "                        history = model.fit(x_train_uni, y_train_uni,\n",
        "                                            epochs=n_epoch,\n",
        "                                            batch_size=batch_size,\n",
        "                                            validation_data=(x_val_uni, y_val_uni),\n",
        "                                            verbose=0,\n",
        "                                            shuffle=False)\n",
        "                                           \n",
        "                        grid_val_metrics_lstm = grid_val_metrics_lstm.append({\"country\": country, 'target': target,  \"batch_size\":  batch_size, \"neuron_number\": neuron_number, \"past_history\": past_history, \"n_epoch\": n_epoch, \"val_score\": history.history['val_loss'][-1]}, ignore_index=True)\n",
        "                   \n",
        "                        mae_lstm = mean_absolute_error(scaler_2.inverse_transform(y_val_uni), scaler_2.inverse_transform(model.predict(x_val_uni)))\n",
        "\n",
        "                        mean_mae_lstm_sum += mae_lstm\n",
        "         \n",
        "                        tf.keras.backend.clear_session()\n",
        "\n",
        "                     div_mae_sum = mean_mae_lstm_sum/5\n",
        "                      \n",
        "                     \n",
        "                     mean_mae_lstm = mean_mae_lstm.append({'mae_lstm': div_mae_sum, \"batch_size\":  batch_size, \"neuron_number\": neuron_number, \"n_epoch\": n_epoch, 'target': target, 'country': country}, ignore_index=True)\n",
        "                     if first_time_lstm==0:\n",
        "                         mae_ant_lstm = div_mae_sum\n",
        "                         first_time_lstm = 1\n",
        "                         best_parameters_lstm = [batch_size, neuron_number, past_history, n_epoch]\n",
        "                     elif div_mae_sum < mae_ant_lstm:\n",
        "                         best_parameters_lstm = [batch_size, neuron_number, past_history, n_epoch]\n",
        "                         mae_ant_lstm = mae_lstm\n",
        "\n",
        "                     mean_mae_lstm_sum = 0       \n",
        "\n",
        "    slice_uni = 3+best_parameters_lstm[2]\n",
        "\n",
        "    print(\"Test begins\")\n",
        "    scaler_3 = StandardScaler()\n",
        "    scaler_3.fit(multi_cross)\n",
        "    multi_data_slice = scaler_3.transform(multi_cross)\n",
        "    multi_data_slice_test = scaler_3.transform(multi_teste)\n",
        "\n",
        "\n",
        "    scaler_4 = StandardScaler()\n",
        "    scaler_4.fit(target_cross)\n",
        "    target_multi_slice = scaler_4.transform(target_cross)\n",
        "    target_multi_slice_test = scaler_4.transform(target_teste)\n",
        "\n",
        "\n",
        "    x_train_uni = univariate_data_x(multi_data_slice, 0, len(multi_data_slice),\n",
        "                                          past_history,\n",
        "                                          1)\n",
        "    x_test_uni = univariate_data_x(multi_data_slice_test, 0, len(multi_data_slice_test),\n",
        "                                          past_history,\n",
        "                                          1)\n",
        "    \n",
        "    y_train_uni = univariate_data_y(target_multi_slice, 0, len(target_multi_slice),\n",
        "                                          past_history,\n",
        "                                          1)\n",
        "        \n",
        "    y_test_uni = univariate_data_y(target_multi_slice_test, 0, len(target_multi_slice_test),\n",
        "                                          past_history,\n",
        "                                          1)\n",
        "    \n",
        "    model = Sequential()\n",
        "    model.add(LSTM(units=best_parameters_lstm[1],input_shape=(x_train_uni.shape[1],6),return_sequences=True))\n",
        "    model.add(Flatten())\n",
        "    model.add(Dense(1))\n",
        "    ADAM=tf.keras.optimizers.Adam(0.0005, beta_1=0.9, beta_2=0.999, amsgrad=False)\n",
        "    model.compile(loss='mae', optimizer=ADAM)\n",
        "\n",
        "    history = model.fit(x_train_uni, y_train_uni,\n",
        "                        epochs=n_epoch,\n",
        "                        batch_size=best_parameters_lstm[0],\n",
        "                        validation_data=(x_test_uni, y_test_uni),\n",
        "                        verbose=0,\n",
        "                        shuffle=False)\n",
        "\n",
        "    print(\"Test is finished\")\n",
        "    print(all_countries[i_country]+\" - \"+target)\n",
        "    plt.plot(history.history['loss'], label='Training loss')\n",
        "    plt.plot(history.history['val_loss'], label='Validation loss')\n",
        "    plt.title(all_countries[i_country]+\" - neuron: \"+str(neuron_number)+\" - batch: \"+str(batch_size))\n",
        "    plt.legend()\n",
        "    plt.show()\n",
        "    \n",
        "    pred_lstm = scaler_4.inverse_transform(model.predict(x_test_uni))\n",
        "    mae_lstm_test = mean_absolute_error(scaler_4.inverse_transform(y_test_uni), pred_lstm)\n",
        "    \n",
        "    \n",
        "    return mae_ant_lstm, mae_lstm_test, pred_lstm, best_parameters_lstm, scaler_4.inverse_transform(y_test_uni), grid_val_metrics_lstm, mean_mae_lstm"
      ],
      "execution_count": null,
      "outputs": []
    },
    {
      "cell_type": "markdown",
      "metadata": {
        "id": "6diYjuxp9-v0",
        "colab_type": "text"
      },
      "source": [
        "## Formating exogenous variables"
      ]
    },
    {
      "cell_type": "code",
      "metadata": {
        "ExecuteTime": {
          "end_time": "2020-05-24T23:27:52.152151Z",
          "start_time": "2020-05-24T23:27:44.644Z"
        },
        "run_control": {
          "marked": false
        },
        "id": "uGNjI_r571ah",
        "colab_type": "code",
        "colab": {}
      },
      "source": [
        "def format_exogenous(dataset_country, target):\n",
        "\n",
        "    if target == 'prevalence':\n",
        "        dataset_country['totalcases'] = dataset_country['totalcases'].shift(1, axis = 0)\n",
        "        dataset_country['newcases'] = dataset_country['newcases'].shift(1, axis = 0)\n",
        "        dataset_country['incidence'] = dataset_country['incidence'].shift(1, axis = 0)\n",
        "        dataset_country['incidence7d'] = dataset_country['incidence7d'].shift(1, axis = 0)\n",
        "        dataset_country['deathrate'] = dataset_country['deathrate'].shift(1, axis = 0)\n",
        "    elif target == 'deathrate':\n",
        "        dataset_country['newcases'] = dataset_country['newcases'].shift(1, axis = 0)\n",
        "        dataset_country['totalcases'] = dataset_country['totalcases'].shift(1, axis = 0)\n",
        "        dataset_country['prevalence'] = dataset_country['prevalence'].shift(1, axis = 0)\n",
        "        dataset_country['incidence'] = dataset_country['incidence'].shift(1, axis = 0)\n",
        "        dataset_country['incidence7d'] = dataset_country['incidence7d'].shift(1, axis = 0)\n",
        "    else:\n",
        "        dataset_country['newcases'] = dataset_country['newcases'].shift(1, axis = 0)\n",
        "        dataset_country['totalcases'] = dataset_country['totalcases'].shift(1, axis = 0)\n",
        "        dataset_country['prevalence'] = dataset_country['prevalence'].shift(1, axis = 0)\n",
        "        dataset_country['incidence7d'] = dataset_country['incidence7d'].shift(1, axis = 0)\n",
        "        dataset_country['deathrate'] = dataset_country['deathrate'].shift(1, axis = 0)\n",
        "        \n",
        "\n",
        "    dataset_country = dataset_country.dropna()\n",
        "\n",
        "    return dataset_country"
      ],
      "execution_count": null,
      "outputs": []
    },
    {
      "cell_type": "markdown",
      "metadata": {
        "id": "Gikw0n1k963j",
        "colab_type": "text"
      },
      "source": [
        "## Selecting which countries to evaluate (datasets) and training"
      ]
    },
    {
      "cell_type": "code",
      "metadata": {
        "ExecuteTime": {
          "end_time": "2020-05-24T23:27:52.154149Z",
          "start_time": "2020-05-24T23:27:44.651Z"
        },
        "run_control": {
          "marked": true
        },
        "scrolled": true,
        "id": "gpRCoCsU71ao",
        "colab_type": "code",
        "colab": {
          "base_uri": "https://localhost:8080/",
          "height": 751
        },
        "outputId": "b37ca4e7-d5b6-4fe5-e96f-28d118992775"
      },
      "source": [
        "all_dataset_countries = [argentina, bolivia, brazil, colombia, cuba, guatemala, haiti, mexico, peru]\n",
        "all_countries = ['argentina', 'bolivia', 'brazil', 'colombia', 'cuba', 'guatemala', 'haiti', 'mexico', 'peru']\n",
        "all_models = ['lstm', 'svr']\n",
        "all_targets = ['incidence', 'prevalence']\n",
        "i_country = 0\n",
        "grid_test_metrics = pd.DataFrame(columns = ['model', 'target', 'MAE_model', 'country', 'parameters'])\n",
        "grid_predictions = pd.DataFrame(columns = ['model', 'target', 'prediction', 'country', 'parameters', 'real_value'])\n",
        "grid_val_metrics_svr = pd.DataFrame(columns = ['country', 'target', 'param_C', 'param_epsilon', 'param_kernel', 'mean_test_score', 'rank_test_score'])\n",
        "grid_val_metrics_lstm = pd.DataFrame(columns = ['country', 'target', 'batch_size', 'neuron_number', 'past_history', 'n_epoch', 'val_score'])\n",
        "mean_mae_lstm_all_countries = pd.DataFrame(columns = ['mae_lstm', 'batch_size', 'neuron_number', 'n_epoch', 'target', 'country'])\n",
        "\n",
        "\n",
        "\n",
        "for dataset_country in all_dataset_countries:\n",
        "    for target in all_targets:\n",
        "        for model in all_models:\n",
        "\n",
        "            if  model in ('svr'):\n",
        "                \n",
        "                dataset_country = format_exogenous(dataset_country, target)\n",
        "                \n",
        "                tra_cross, trv = train_test_split(pd.DataFrame(dataset_country.dropna()), test_size=0.2, shuffle=False)\n",
        "            \n",
        "                \n",
        "                tra_cross_target = tra_cross.pop(target)\n",
        "                trv_target       = trv.pop(target)\n",
        "\n",
        "                mae_test_sarimax, pred_svr, real_value, best_params, cv_results = train_svr(tra_cross, trv, tra_cross_target, trv_target)\n",
        "                \n",
        "                real_value_previsao = pd.concat([real_value, pred_svr], axis=1)\n",
        "                \n",
        "                cv_results = pd.DataFrame(cv_results)\n",
        "                for i, row in cv_results.iterrows():\n",
        "                    grid_val_metrics_svr = grid_val_metrics_svr.append({'country': all_countries[i_country], 'target': target, 'param_C': row['param_C'], 'param_epsilon': row['param_epsilon'], 'param_kernel': row['param_kernel'], 'mean_test_score': row['mean_test_score'], 'rank_test_score': row['rank_test_score']}, ignore_index=True)\n",
        "                \n",
        "                grid_test_metrics = grid_test_metrics.append({\"model\": 'svr', 'target': target, \"MAE_model\":  mae_test_sarimax, \"country\": all_countries[i_country], \"parameters\": str(best_params)}, ignore_index=True)\n",
        "\n",
        "                for i, row in real_value_previsao.iterrows():\n",
        "                    grid_predictions = grid_predictions.append({\"model\": 'svr', 'target': target,  \"prediction\":  row['previsao'], \"country\": all_countries[i_country], \"parameters\": str(best_params), \"real_value\": row[target]}, ignore_index=True)\n",
        "                \n",
        "           \n",
        "            if model in ('lstm'):\n",
        "                \n",
        "                uni_data = dataset_country[target]\n",
        "                uni_data.index = dataset_country.index\n",
        "                uni_data = uni_data.values\n",
        "             \n",
        "                multi_exog = format_exogenous(dataset_country, target)\n",
        "                multi_target = np.array(multi_exog.pop(target))\n",
        "                multi_exog = np.array(multi_exog)\n",
        "\n",
        "                multi_cross, multi_teste = train_test_split(pd.DataFrame(multi_exog), test_size=0.2, shuffle=False)\n",
        "                target_cross, target_teste = train_test_split(pd.DataFrame(multi_target), test_size=0.2, shuffle=False)\n",
        "            \n",
        "\n",
        "                mae_ant_lstm, mae_lstm_test, pred_lstm, best_parameters_lstm, real_value, grid_val_metrics_lstm, mean_mae_lstm = train_lstm_multivariate(multi_cross, multi_teste, target_cross, target_teste, target, grid_val_metrics_lstm, all_countries[i_country])\n",
        "\n",
        "                mean_mae_lstm_all_countries = pd.concat([mean_mae_lstm_all_countries, mean_mae_lstm], ignore_index=True)\n",
        "\n",
        "                real_value = pd.DataFrame(data=real_value,\n",
        "                                          columns=[\"real_value\"])  \n",
        "                previsao = pd.DataFrame(data=pred_lstm,\n",
        "                                        columns=[\"previsao\"])  \n",
        "                real_value_previsao = pd.concat([real_value, previsao], axis=1)\n",
        "\n",
        "                grid_test_metrics = grid_test_metrics.append({\"model\": 'lstm_multivariate', 'target': target, \"MAE_model\":  mae_lstm_test, \"country\": all_countries[i_country], \"parameters\": str(best_parameters_lstm)}, ignore_index=True)\n",
        "\n",
        "                for i, row in real_value_previsao.iterrows():\n",
        "                    grid_predictions = grid_predictions.append({\"model\": 'lstm_multivariate', 'target': target,  \"prediction\":  row['previsao'], \"country\": all_countries[i_country], \"parameters\": str(best_parameters_lstm), \"real_value\": row['real_value']}, ignore_index=True)\n",
        "                \n",
        "\n",
        "                print(\"País\", all_countries[i_country])\n",
        "                print(\"Target\", target)\n",
        "\n",
        "\n",
        "\n",
        "    if len(all_countries) != 0:\n",
        "        i_country = i_country+1\n",
        "\n",
        "mean_mae_lstm_all_countries.to_csv('mean_mae_lstm_all_countries.csv')"
      ],
      "execution_count": null,
      "outputs": [
        {
          "output_type": "stream",
          "text": [
            "treino - argentina - neurons: 10 - batch_size: 2\n",
            "começou o teste\n",
            "acabou o teste\n",
            "argentina - incidence\n"
          ],
          "name": "stdout"
        },
        {
          "output_type": "display_data",
          "data": {
            "image/png": "[encoded data removed]",
            "text/plain": [
              "<Figure size 432x288 with 1 Axes>"
            ]
          },
          "metadata": {
            "tags": [],
            "needs_background": "light"
          }
        },
        {
          "output_type": "stream",
          "text": [
            "País argentina\n",
            "Target incidence\n",
            "treino - argentina - neurons: 10 - batch_size: 2\n",
            "começou o teste\n",
            "acabou o teste\n",
            "argentina - prevalence\n"
          ],
          "name": "stdout"
        },
        {
          "output_type": "display_data",
          "data": {
            "image/png": "[encoded data removed]",
            "text/plain": [
              "<Figure size 432x288 with 1 Axes>"
            ]
          },
          "metadata": {
            "tags": [],
            "needs_background": "light"
          }
        },
        {
          "output_type": "stream",
          "text": [
            "País argentina\n",
            "Target prevalence\n"
          ],
          "name": "stdout"
        }
      ]
    },
    {
      "cell_type": "markdown",
      "metadata": {
        "id": "m6_FhI1V91Gk",
        "colab_type": "text"
      },
      "source": [
        "## Saving metrics on CSVs"
      ]
    },
    {
      "cell_type": "code",
      "metadata": {
        "id": "I-VjFC1LncnT",
        "colab_type": "code",
        "colab": {}
      },
      "source": [
        "grid_val_metrics_svr.to_csv('grid_val_metrics_svr.csv')\n",
        "!cp grid_val_metrics_svr.csv \"drive/My Drive/\"\n",
        "\n",
        "grid_test_metrics.to_csv('grid_test_metrics_svr.csv')\n",
        "!cp grid_test_metrics_svr.csv \"drive/My Drive/\"\n"
      ],
      "execution_count": null,
      "outputs": []
    },
    {
      "cell_type": "code",
      "metadata": {
        "id": "WM1nORNg_vsA",
        "colab_type": "code",
        "colab": {}
      },
      "source": [
        "grid_test_metrics.to_csv('grid_test_metrics_lstm_inc_1.csv')\n",
        "!cp grid_test_metrics_lstm_inc_1.csv \"drive/My Drive/\"\n",
        "\n",
        "mean_mae_lstm_all_countries.to_csv('grid_val_metrics_lstm_inc_1.csv')\n",
        "!cp grid_val_metrics_lstm_inc_1.csv \"drive/My Drive/\"\n",
        "\n",
        "grid_val_metrics_lstm.to_csv('grid_val_metrics_blocks_lstm_inc_1.csv')\n",
        "!cp grid_val_metrics_blocks_lstm_inc_1.csv \"drive/My Drive/\""
      ],
      "execution_count": null,
      "outputs": []
    }
  ]
}